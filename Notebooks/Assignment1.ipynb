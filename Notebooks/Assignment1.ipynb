{
 "cells": [
  {
   "cell_type": "markdown",
   "metadata": {},
   "source": [
    "**Problem 1]** Draw the Moment-Curvature relationship graph of a beam with given different cases\n",
    "***\n",
    "### Given / Assumptions:<br>\n",
    "\n",
    "#### <u>Properties</u>\n",
    "$$\n",
    "f'c = 21 MPa\n",
    "$$\n",
    "$$\n",
    "fy = 275 MPA\n",
    "$$\n",
    "$$\n",
    "fr = 0.7\\sqrt{f'c} = 3.20 MPA\n",
    "$$\n",
    "$$\n",
    "Es = 200,000 MPa\n",
    "$$\n",
    "$$\n",
    "Ec = 4,700 \\sqrt{f'c}\n",
    "$$\n",
    "$$\n",
    "Ec = 21,538.10 MPa\n",
    "$$\n",
    "$$\n",
    "\\eta = \\frac{Es}{Ec} = 9.28\n",
    "$$\n",
    "\n",
    "\n",
    "#### <u>Geometric Properties</u>\n",
    "$$ \n",
    "b   = 300 mm\n",
    "$$\n",
    "$$ \n",
    "h   = 450 mm \n",
    "$$\n",
    "$$ \n",
    "d'   = 40 mm \n",
    "$$\n",
    "$$ \n",
    "d   = h - d' \n",
    "$$"
   ]
  },
  {
   "cell_type": "markdown",
   "metadata": {},
   "source": [
    "**<center>General Cases</center>**\n",
    "\n",
    "<table>\n",
    "    <thead>\n",
    "        <th>Case</th>\n",
    "        <th>As (tension)</th>\n",
    "        <th>As' (compression)</th>\n",
    "    </thead>\n",
    "    <tbody>\n",
    "        <tr>\n",
    "            <td>Case 1</td>\n",
    "            <td>Asb</td>\n",
    "            <td>0</td>\n",
    "        </tr>\n",
    "        <tr>\n",
    "            <td>Case 2</td>\n",
    "            <td>0.5 Asb</td>\n",
    "            <td>0</td>\n",
    "        </tr>\n",
    "        <tr>\n",
    "            <td>Case 3</td>\n",
    "            <td>0.75 Asb</td>\n",
    "            <td>0.25 Asb</td>\n",
    "        </tr>\n",
    "    </tbody>\n",
    "</table>\n"
   ]
  },
  {
   "cell_type": "code",
   "execution_count": 1,
   "metadata": {},
   "outputs": [],
   "source": [
    "from sympy import *\n",
    "import math\n",
    "import matplotlib.pyplot as plt\n",
    "\n",
    "modular_ratio = Symbol(u\"\\u03B7\")\n",
    "beta_symbol = Symbol(u\"\\u03B2\")\n",
    "rho_symbol = Symbol(u\"\\u03C1\")\n",
    "epsilon_symbol = Symbol(u\"\\u03B5\")"
   ]
  },
  {
   "cell_type": "code",
   "execution_count": 2,
   "metadata": {},
   "outputs": [
    {
     "name": "stdout",
     "output_type": "stream",
     "text": [
      "Ec = 21538.11 MPa\n",
      "η = 9.29\n"
     ]
    }
   ],
   "source": [
    "# Variable declarations\n",
    "beam_width = 300\n",
    "beam_height = 450\n",
    "clearance = 50\n",
    "effective_depth = beam_height - clearance\n",
    "fcprime = 21\n",
    "fy = 275\n",
    "fr = 0.7 * math.sqrt(fcprime)\n",
    "Es = 200000\n",
    "Ec = 4700 * math.sqrt(fcprime)\n",
    "B1 = 0.85\n",
    "n = Es / Ec\n",
    "\n",
    "# =========================================\n",
    "# Create methods\n",
    "# =========================================\n",
    "def solveLo(case_no, 𝜆):\n",
    "    if case_no ==1:\n",
    "        return 0.85 / 3 * 𝜆 * (3 - 𝜆)\n",
    "    else:\n",
    "        return 0.85 * (3*𝜆 - 1) / (3 * 𝜆)\n",
    "\n",
    "print(\"Ec = \" + str(round(Ec, 2)) + \" MPa\")\n",
    "print(str(modular_ratio) + \" = \" + str(round(n, 2)))"
   ]
  },
  {
   "cell_type": "markdown",
   "metadata": {},
   "source": [
    "### Calculate the Asb\n",
    "---"
   ]
  },
  {
   "cell_type": "code",
   "execution_count": 3,
   "metadata": {},
   "outputs": [
    {
     "name": "stdout",
     "output_type": "stream",
     "text": [
      "ρb = 0.03783\n",
      "Asb = 4539.93mm^2\n"
     ]
    }
   ],
   "source": [
    "pb = (0.85 * fcprime * B1 * 600) / (fy * (600 + fy))\n",
    "print(str(rho_symbol) + \"b = \" + str(round(pb, 5)))\n",
    "Asb = pb * beam_width * effective_depth\n",
    "print(\"Asb = \" + str(round(Asb, 2)) + \"mm^2\")\n",
    "\n",
    "# =========================================\n",
    "# Define arrays for variables of each case\n",
    "# =========================================\n",
    "As = (Asb, 0.5*Asb, 0.75*Asb)       # Area of steel at tension\n",
    "Asp = (0.0, 0.0, 0.25*Asb)\n",
    "\n",
    "data_case_1_phi = []                    # List of data for plotting the case 1\n",
    "data_case_1_m = []"
   ]
  },
  {
   "cell_type": "markdown",
   "metadata": {},
   "source": [
    "### For Case 1\n",
    "---"
   ]
  },
  {
   "cell_type": "code",
   "execution_count": 4,
   "metadata": {
    "scrolled": false
   },
   "outputs": [
    {
     "name": "stdout",
     "output_type": "stream",
     "text": [
      "Mcr =  44.09 ϕu =  7.970318780711861e-07 ⲉu =  0.00014893617021276596 kd =  263.14  mm\n",
      "=========================================\n",
      "Moment of Inertia for cracked section\n",
      "=========================================\n",
      "Icr =  2429698431.478175  mm^4\n",
      "Mcr =  44.09 ϕcr =  8.425676030724885e-07 ⲉcr =  0.0001879116425356417 kd =  223.022629698089  mm\n",
      "M05 =  114.39 ϕo =  2.1859129421746517e-06 ⲉc =  0.0004875080526548766 kd_yield =  223.022629698089  mm\n",
      "ⲉo =  0.0016575273790265803\n",
      "\n",
      "For 0 < ⲉc < ⲉo\n",
      "Mc =  117.67 ϕc =  5.617979217252988e-06 ⲉc =  0.0010287636895132902 kd =  183.11988167452188\n",
      "Mc =  121.73 ϕc =  8.292387706005563e-06 ⲉc =  0.0012287636895132903 kd =  148.17972013336853\n",
      "Mc =  124.0 ϕc =  1.1156968298671767e-05 ⲉc =  0.0014287636895132904 kd =  128.0602087650804\n",
      "Mc =  125.16 ϕc =  1.3942295346807288e-05 ⲉc =  0.0016287636895132905 kd =  116.82177496593262\n",
      "For ⲉo < ⲉc < ⲉcu\n",
      "Mc =  125.74 ϕc =  1.691085229944358e-05 ⲉc =  0.0018575273790265804 kd =  109.84232764469824\n",
      "Mc =  126.04 ϕc =  1.9502517552348428e-05 ⲉc =  0.0020575273790265805 kd =  105.50060388376987\n",
      "Mc =  126.24 ϕc =  2.2094182805253264e-05 ⲉc =  0.0022575273790265806 kd =  102.1774554381715\n",
      "Mc =  126.38 ϕc =  2.468584805815811e-05 ⲉc =  0.0024575273790265807 kd =  99.55207425877451\n",
      "Mc =  126.48 ϕc =  2.7277513311062956e-05 ⲉc =  0.0026575273790265808 kd =  97.4255735382142\n",
      "Mc =  126.56 ϕc =  2.9869178563967792e-05 ⲉc =  0.002857527379026581 kd =  95.66809388168825\n"
     ]
    }
   ],
   "source": [
    "# Add initial data\n",
    "data_case_1_phi.append(0)\n",
    "data_case_1_m.append(0)\n",
    "\n",
    "# Total area of section\n",
    "At = beam_width * beam_height + (n-1) * As[0]\n",
    "\n",
    "# Centroid (neutral axis) from the tension fiber\n",
    "ybar = (beam_width * beam_height * (0.5 * beam_height) + ((n-1) * As[0] * clearance)) / At\n",
    "\n",
    "# Compression block height\n",
    "kd = beam_height - ybar\n",
    "\n",
    "# Moment of inertia (uncracked)\n",
    "Iuc = (beam_width * kd ** 3 / 12) + (beam_width * kd * (kd/2)**2) +  (beam_width * ybar ** 3 / 12) +\\\n",
    "      (beam_width * ybar * (ybar/2)**2) + ((n-1)*As[0] * clearance**2)\n",
    "\n",
    "# Calculate the cracking moment, Mcr\n",
    "Mcr = fr * Iuc / ybar\n",
    "\n",
    "# Calculate the strain at tension fiber\n",
    "Epc = fr / Ec\n",
    "\n",
    "# Calculate the curvature before cracking\n",
    "Phi = Epc / ybar\n",
    "\n",
    "# Append data to curve of case 1\n",
    "data_case_1_phi.append(Phi)\n",
    "data_case_1_m.append(Mcr)\n",
    "print(\"Mcr = \", round(Mcr/1000**2, 2), \"ϕu = \", Phi, \"ⲉu = \", Epc, \"kd = \", round(kd, 2), \" mm\")\n",
    "\n",
    "# Calculate moment of inertia after cracking occurs\n",
    "nAs = n * Asb\n",
    "# kd^2 + (150 * nAs)kd - 60000 nAs = 0\n",
    "kd_a = 150\n",
    "kd_b = nAs\n",
    "kd_c = 400 * nAs * (-1)\n",
    "kd_d = (kd_b**2) - (4 * kd_a * kd_c)               # Discriminant\n",
    "kd = (-1 * kd_b + math.sqrt(kd_d)) / (2 * kd_a)    # New value of kd\n",
    "\n",
    "print(\"=========================================\")\n",
    "print(\"Moment of Inertia for cracked section\")\n",
    "print(\"=========================================\")\n",
    "Icr = (beam_width * kd**3 / 12) +\\\n",
    "      (beam_width * kd * (kd/2)**2) +\\\n",
    "      (nAs * (effective_depth - kd)**2)\n",
    "print(\"Icr = \", Icr, \" mm^4\")\n",
    "\n",
    "# Calculate curvature after cracking\n",
    "Phi = Mcr / (Ec * Icr)\n",
    "ⲉcr = Phi * kd\n",
    "print(\"Mcr = \", round(Mcr/1000**2, 2), \"ϕcr = \", Phi, \"ⲉcr = \", ⲉcr, \"kd = \", round(kd, 12), \" mm\")\n",
    "\n",
    "# Append data to curve of case 1\n",
    "data_case_1_phi.append(Phi)\n",
    "data_case_1_m.append(Mcr)\n",
    "# =========================================\n",
    "# End of Elastic Stage\n",
    "# =========================================\n",
    "# When fc = 0.5 f'c\n",
    "fc = 0.5 * fcprime\n",
    "ρ = As[0] / (beam_width * effective_depth)\n",
    "Mc = 0.5 * fc * kd * beam_width * (effective_depth - kd / 3)\n",
    "ⲉc = fc / Ec\n",
    "ϕo = ⲉc / kd\n",
    "Epc_yield = ⲉc\n",
    "print(\"M05 = \", round(Mc/1000**2, 2), \"ϕo = \", ϕo, \"ⲉc = \", ⲉc, \"kd_yield = \", round(kd, 12), \" mm\")\n",
    "\n",
    "# \n",
    "ⲉs = ϕo * (effective_depth - kd)\n",
    "fs = ⲉs * Es\n",
    "\n",
    "data_case_1_phi.append(ϕo)\n",
    "data_case_1_m.append(Mc)\n",
    "\n",
    "# =========================================\n",
    "# Inelastic stage\n",
    "# =========================================\n",
    "# Calculate for ⲉo\n",
    "ⲉo = 2 * 0.85 * fcprime / Ec\n",
    "print(\"ⲉo = \", ⲉo)\n",
    "print()\n",
    "\n",
    "# Iterator\n",
    "iterator_increment = 0.0002\n",
    "\n",
    "# For 0 < ⲉc < ⲉo\n",
    "ⲉc = ⲉo/2\n",
    "print(\"For 0 < ⲉc < ⲉo\")\n",
    "while (ⲉc + iterator_increment) < ⲉo:\n",
    "    ⲉc = ⲉc + iterator_increment\n",
    "    𝜆o = ⲉc / ⲉo\n",
    "    k2 = 1 / 4 * (4 - 𝜆o) / (3 - 𝜆o)\n",
    "    Lo = solveLo(1, 𝜆o)\n",
    "    fc = 0.85 * fcprime * (2 * 𝜆o - 𝜆o**2)\n",
    "    kd = As[0] * fs / (Lo * fc * beam_width)\n",
    "    Mc = As[0] * fs * (effective_depth - k2 * kd)\n",
    "    ϕc = ⲉc / kd\n",
    "    #data_case_1_phi.append(ϕc)\n",
    "    #data_case_1_m.append(Mc)\n",
    "    print('Mc = ', round(Mc / 1000**2, 2), 'ϕc = ', ϕc, 'ⲉc = ', ⲉc, 'kd = ', kd)\n",
    "print(\"For ⲉo < ⲉc < ⲉcu\")\n",
    "ⲉc = ⲉo\n",
    "while (ⲉc + iterator_increment) < 0.003:\n",
    "    ⲉc = ⲉc + iterator_increment\n",
    "    ζc = ⲉo / ⲉc\n",
    "    𝜆o = 1 / ζc\n",
    "    Lo = solveLo(2, 𝜆o)\n",
    "    k2 = (6 * 𝜆o**2 - 4 * 𝜆o + 1) / (4 * 𝜆o * (3 * 𝜆o - 1))\n",
    "    fc = 0.85 * fcprime\n",
    "    kd = As[0] * fs / (Lo * fc * beam_width)\n",
    "    Mc = As[0] * fs * (effective_depth - k2 * kd)\n",
    "    ϕc = ⲉc / kd\n",
    "    print('Mc = ', round(Mc / 1000**2, 2), 'ϕc = ', ϕc, 'ⲉc = ', ⲉc, 'kd = ', kd)\n",
    "    data_case_1_phi.append(ϕc)\n",
    "    data_case_1_m.append(Mc)"
   ]
  },
  {
   "cell_type": "code",
   "execution_count": 5,
   "metadata": {},
   "outputs": [
    {
     "data": {
      "image/png": "[encoded data removed]",
      "text/plain": [
       "<Figure size 432x288 with 1 Axes>"
      ]
     },
     "metadata": {},
     "output_type": "display_data"
    }
   ],
   "source": [
    "# Show plots \n",
    "plt.title(\"Moment-Curvature\")\n",
    "plt.xlabel('Curvature')\n",
    "plt.ylabel('Moment')\n",
    "plt.rcParams[\"figure.figsize\"] = [10, 10]\n",
    "plt.grid()\n",
    "plt.plot(data_case_1_phi, data_case_1_m)\n",
    "plt.show()"
   ]
  },
  {
   "cell_type": "code",
   "execution_count": null,
   "metadata": {},
   "outputs": [],
   "source": []
  }
 ],
 "metadata": {
  "kernelspec": {
   "display_name": "Python 3",
   "language": "python",
   "name": "python3"
  },
  "language_info": {
   "codemirror_mode": {
    "name": "ipython",
    "version": 3
   },
   "file_extension": ".py",
   "mimetype": "text/x-python",
   "name": "python",
   "nbconvert_exporter": "python",
   "pygments_lexer": "ipython3",
   "version": "3.7.0"
  }
 },
 "nbformat": 4,
 "nbformat_minor": 2
}
